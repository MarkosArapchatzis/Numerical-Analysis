{
 "cells": [
  {
   "cell_type": "markdown",
   "metadata": {},
   "source": [
    "έχω το διάστημα [0.5,1]. Ψάχνω τη ρίζα της εξίσωσης $2x+3\\tan(x/4)-e^x=0$ με διχοτόμηση και ακρίβεια 2 δεκαδικών\n"
   ]
  },
  {
   "cell_type": "code",
   "execution_count": 41,
   "metadata": {},
   "outputs": [],
   "source": [
    "import numpy as np\n",
    "from mpmath import *"
   ]
  },
  {
   "cell_type": "code",
   "execution_count": 5,
   "metadata": {},
   "outputs": [],
   "source": [
    "def f(x):\n",
    "    return 2*x+3*np.tan(x/4)-np.exp(x)  \n",
    "def bisection(a,b,error):\n",
    "    a_n=a\n",
    "    b_n=b\n",
    "    i=0\n",
    "    \n",
    "    global err\n",
    "    err=[]\n",
    "    while abs((1/2)*(a_n-b_n))>error:\n",
    "        m_n = (a_n + b_n)/2\n",
    "        f_m_n = f(m_n)\n",
    "        if f(a_n)*f_m_n<0:\n",
    "            a_n=a_n\n",
    "            b_n=m_n\n",
    "        else:\n",
    "            a_n=m_n\n",
    "            b_n=b_n\n",
    "        i=i+1\n",
    "        err.append([i,abs((1/2)*(a_n-b_n))])\n",
    "        \n",
    "    return(f(m_n),i)\n",
    "        \n",
    "        \n",
    "        \n",
    "    \n",
    "    "
   ]
  },
  {
   "cell_type": "code",
   "execution_count": 36,
   "metadata": {},
   "outputs": [
    {
     "data": {
      "text/plain": [
       "(1.3367085216486885e-13, 38)"
      ]
     },
     "execution_count": 36,
     "metadata": {},
     "output_type": "execute_result"
    }
   ],
   "source": [
    "bisection(0.5,1,10**(-12))"
   ]
  },
  {
   "cell_type": "code",
   "execution_count": 254,
   "metadata": {},
   "outputs": [
    {
     "data": {
      "text/plain": [
       "[1, 0.125]"
      ]
     },
     "execution_count": 254,
     "metadata": {},
     "output_type": "execute_result"
    }
   ],
   "source": [
    "err[0]\n",
    "    "
   ]
  },
  {
   "cell_type": "code",
   "execution_count": 255,
   "metadata": {},
   "outputs": [],
   "source": [
    "x,y = zip(*err)"
   ]
  },
  {
   "cell_type": "code",
   "execution_count": 270,
   "metadata": {},
   "outputs": [
    {
     "data": {
      "image/png": "[encoded data removed]",
      "text/plain": [
       "<Figure size 432x288 with 1 Axes>"
      ]
     },
     "metadata": {
      "needs_background": "light"
     },
     "output_type": "display_data"
    }
   ],
   "source": [
    "from matplotlib import pyplot as plt\n",
    "plt.scatter(*zip(*err))\n",
    "plt.yscale(\"log\")\n"
   ]
  },
  {
   "cell_type": "code",
   "execution_count": 26,
   "metadata": {},
   "outputs": [],
   "source": [
    "def interv(a,b,accur):\n",
    "    a_n=a\n",
    "    b_n=b\n",
    "    m_n=(a_n+b_n)/2\n",
    "    i=0\n",
    "    m_n_0=1\n",
    "    err=1\n",
    "    while abs(err)>accur:\n",
    "        m_n = b_n-f(b_n)*(b_n-a_n)/(f(b_n)-f(a_n))\n",
    "        f_m_n = f(m_n)\n",
    "        err=m_n-m_n_0\n",
    "        if f(a_n)*f_m_n<0:\n",
    "            a_n=a_n\n",
    "            b_n=m_n\n",
    "        else:\n",
    "            a_n=m_n\n",
    "            b_n=b_n\n",
    "        i=i+1\n",
    "        m_n_0=m_n\n",
    "    return(f(m_n),x,i)\n",
    "        \n",
    "        \n",
    "    \n",
    "   "
   ]
  },
  {
   "cell_type": "code",
   "execution_count": 27,
   "metadata": {},
   "outputs": [
    {
     "ename": "NameError",
     "evalue": "name 'x' is not defined",
     "output_type": "error",
     "traceback": [
      "\u001b[1;31m---------------------------------------------------------------------------\u001b[0m",
      "\u001b[1;31mNameError\u001b[0m                                 Traceback (most recent call last)",
      "\u001b[1;32m~\\AppData\\Local\\Temp/ipykernel_19988/3622835705.py\u001b[0m in \u001b[0;36m<module>\u001b[1;34m\u001b[0m\n\u001b[1;32m----> 1\u001b[1;33m \u001b[0minterv\u001b[0m\u001b[1;33m(\u001b[0m\u001b[1;36m0.5\u001b[0m\u001b[1;33m,\u001b[0m\u001b[1;36m1\u001b[0m\u001b[1;33m,\u001b[0m\u001b[1;36m10\u001b[0m\u001b[1;33m**\u001b[0m\u001b[1;33m(\u001b[0m\u001b[1;33m-\u001b[0m\u001b[1;36m12\u001b[0m\u001b[1;33m)\u001b[0m\u001b[1;33m)\u001b[0m\u001b[1;33m\u001b[0m\u001b[1;33m\u001b[0m\u001b[0m\n\u001b[0m",
      "\u001b[1;32m~\\AppData\\Local\\Temp/ipykernel_19988/1983173528.py\u001b[0m in \u001b[0;36minterv\u001b[1;34m(a, b, accur)\u001b[0m\n\u001b[0;32m     18\u001b[0m         \u001b[0mi\u001b[0m\u001b[1;33m=\u001b[0m\u001b[0mi\u001b[0m\u001b[1;33m+\u001b[0m\u001b[1;36m1\u001b[0m\u001b[1;33m\u001b[0m\u001b[1;33m\u001b[0m\u001b[0m\n\u001b[0;32m     19\u001b[0m         \u001b[0mm_n_0\u001b[0m\u001b[1;33m=\u001b[0m\u001b[0mm_n\u001b[0m\u001b[1;33m\u001b[0m\u001b[1;33m\u001b[0m\u001b[0m\n\u001b[1;32m---> 20\u001b[1;33m     \u001b[1;32mreturn\u001b[0m\u001b[1;33m(\u001b[0m\u001b[0mf\u001b[0m\u001b[1;33m(\u001b[0m\u001b[0mm_n\u001b[0m\u001b[1;33m)\u001b[0m\u001b[1;33m,\u001b[0m\u001b[0mx\u001b[0m\u001b[1;33m,\u001b[0m\u001b[0mi\u001b[0m\u001b[1;33m)\u001b[0m\u001b[1;33m\u001b[0m\u001b[1;33m\u001b[0m\u001b[0m\n\u001b[0m\u001b[0;32m     21\u001b[0m \u001b[1;33m\u001b[0m\u001b[0m\n\u001b[0;32m     22\u001b[0m \u001b[1;33m\u001b[0m\u001b[0m\n",
      "\u001b[1;31mNameError\u001b[0m: name 'x' is not defined"
     ]
    }
   ],
   "source": [
    "interv(0.5,1,10**(-12))"
   ]
  },
  {
   "cell_type": "code",
   "execution_count": 45,
   "metadata": {},
   "outputs": [],
   "source": [
    "def f(x):\n",
    "    return 2*x+3*np.tan(x/4)-np.exp(x) \n",
    "def df(x):\n",
    "    return 2+(3/4*(np.cos(x/4)**2))-np.exp(x)"
   ]
  },
  {
   "cell_type": "code",
   "execution_count": 46,
   "metadata": {},
   "outputs": [],
   "source": [
    "def newtonRaphson(x, accur ): \n",
    "    h = f(x) / df(x)\n",
    "    i=0\n",
    "    m_n_0=1\n",
    "    err=1\n",
    "    while abs(err) > accur:     \n",
    "        h = f(x) / df(x)  \n",
    "        if(df(x) !=0):       \n",
    "            x = x - h \n",
    "        err=x-m_n_0\n",
    "        i=i+1\n",
    "        m_n_0=x\n",
    "    return(f(x),x,i)"
   ]
  },
  {
   "cell_type": "code",
   "execution_count": 47,
   "metadata": {},
   "outputs": [
    {
     "data": {
      "text/plain": [
       "(-1.2434497875801753e-14, 0.8335555793434355, 16)"
      ]
     },
     "execution_count": 47,
     "metadata": {},
     "output_type": "execute_result"
    }
   ],
   "source": [
    "newtonRaphson(0.5,10**(-12))"
   ]
  },
  {
   "cell_type": "code",
   "execution_count": 50,
   "metadata": {},
   "outputs": [],
   "source": [
    "def d(x):\n",
    "    return((x-1)**4*np.exp(x))\n",
    "def dd(x):\n",
    "    return (4*((x-1)**3)*np.exp(x)+((x-1)**4)*np.exp(x))\n",
    "    "
   ]
  },
  {
   "cell_type": "code",
   "execution_count": 52,
   "metadata": {},
   "outputs": [],
   "source": [
    "def newtonRaphson2(x, accur ): \n",
    "    h = d(x) / dd(x)\n",
    "    i=0\n",
    "    m_n_0=0\n",
    "    err=1\n",
    "    while abs(err) > accur:  \n",
    "        h = d(x) / dd(x)\n",
    "        if(dd(x) !=0):       \n",
    "            x = x - h \n",
    "        err=x-m_n_0\n",
    "        i=i+1\n",
    "        m_n_0=x\n",
    "    return(d(x),x,i)"
   ]
  },
  {
   "cell_type": "code",
   "execution_count": 56,
   "metadata": {},
   "outputs": [
    {
     "data": {
      "text/plain": [
       "(1.0572443342520603e-61, 1.0000000000000004, 119)"
      ]
     },
     "execution_count": 56,
     "metadata": {},
     "output_type": "execute_result"
    }
   ],
   "source": [
    "newtonRaphson2(1.2,10**(-999))"
   ]
  },
  {
   "cell_type": "code",
   "execution_count": null,
   "metadata": {},
   "outputs": [],
   "source": []
  }
 ],
 "metadata": {
  "kernelspec": {
   "display_name": "Python 3 (ipykernel)",
   "language": "python",
   "name": "python3"
  },
  "language_info": {
   "codemirror_mode": {
    "name": "ipython",
    "version": 3
   },
   "file_extension": ".py",
   "mimetype": "text/x-python",
   "name": "python",
   "nbconvert_exporter": "python",
   "pygments_lexer": "ipython3",
   "version": "3.9.7"
  }
 },
 "nbformat": 4,
 "nbformat_minor": 4
}
